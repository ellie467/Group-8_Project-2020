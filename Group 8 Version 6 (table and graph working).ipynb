{
 "cells": [
  {
   "cell_type": "code",
   "execution_count": 5,
   "metadata": {},
   "outputs": [],
   "source": [
    "'''Input!'''\n",
    "\n",
    "def user():\n",
    "    population = int(input('What is the approximate population size of your city/town? '))\n",
    "    daily_rate = int(input('What was the daily increase of cases in your area? '))\n",
    "    num_gen= int(input('The assumed generation time is 10 days, how many Generation do you want to go through: '))\n",
    "    \n",
    "    high_or_low = input('Would you like the R value to be a high or low estimate? ')\n",
    "    if len(high_or_low)==3:\n",
    "        low_estimate={'England':0.8, 'Northen Ireland':0.9, 'Scotland':0.8, 'Wales':0.8}\n",
    "        country = input('What country in the UK is your town or city? ')\n",
    "        R= low_estimate[country]\n",
    "        return R, country, num_gen, daily_rate, population\n",
    "    else:\n",
    "        high_estimate={'England':1.0, 'Northen Ireland':1.1, 'Scotland':1.0, 'Wales':1.0}\n",
    "        country = input('What country in the UK is your town or city? ')\n",
    "        R = high_estimate[country]\n",
    "        return R, country, num_gen, daily_rate, population"
   ]
  },
  {
   "cell_type": "code",
   "execution_count": 6,
   "metadata": {},
   "outputs": [],
   "source": [
    "'''Maths! '''\n",
    "\n",
    "def calculations():\n",
    "    R, country, num_gen, daily_rate, population = user()\n",
    "    print('The R value for {} is {}. '.format(country, R))\n",
    "    mr= 0.036\n",
    "    print(num_gen)\n",
    "    length= int(num_gen) + 1\n",
    "    gen = range(1, length)\n",
    "    all_cases = [daily_rate]\n",
    "    total_immunity=[]\n",
    "    total_death = []\n",
    "    total_generation=[]\n",
    "    for b in gen:\n",
    "        if sum(all_cases)<=population:\n",
    "                #equation we have to use if daily_rate or the amount of people who have cororna * r which equals 1+1.3 * change in time which for our gen is 10\n",
    "            total_cases= daily_rate*(1+R)\n",
    "            all_cases.append(total_cases)\n",
    "            if sum(all_cases)>=population:\n",
    "                total_generation.append(b)\n",
    "                print('All members of your population will have had the virus on generation {}.'.format(b))\n",
    "                all_cases.remove(total_cases)\n",
    "                remain = population-sum(all_cases)\n",
    "                death= (remain)*0.036\n",
    "                total_death.append(death)\n",
    "                immunity = remain - death\n",
    "                total_immunity.append(immunity)\n",
    "                print('In generation final ({}) generation, the remaining individuals in the population received corona so there was {:.0f} cases, after an increase of {:.0f}. {:.0f} people became immune, and {:.0f} died.'.format(b, remain, \n",
    "                                                                                                                                                   daily_rate, immunity, death))\n",
    "                print('After {} generation(s) of COVID, {:.0f} number of people will be immune.'.format(b,sum(total_immunity)))\n",
    "                break\n",
    "            else:\n",
    "                death =  (total_cases)*0.036\n",
    "                total_death.append(death)\n",
    "                immunity = total_cases - death\n",
    "                total_immunity.append(immunity) \n",
    "                print('In generation {}, there were {:.0f} cases, after an increase of {:.0f}. {:.0f} people became immune, and {:.0f} died.'.format(b, total_cases, \n",
    "                                                                                                                       daily_rate, immunity, death))\n",
    "                print('After {} generation(s) of COVID, {:.0f} number of people will be immune.'.format(b,sum(total_immunity))) \n",
    "                daily_rate = total_cases\n",
    "                all_cases\n",
    "                print(' ')\n",
    "                total_generation.append(b)\n",
    "    return all_cases, total_immunity, total_death, total_generation\n",
    "    "
   ]
  },
  {
   "cell_type": "code",
   "execution_count": 12,
   "metadata": {},
   "outputs": [],
   "source": [
    "'''Output!'''\n",
    "def table():\n",
    "    all_cases, total_immunity, total_death, total_generation = calculations()\n",
    "    print(total_generation)\n",
    "    import pandas as pd\n",
    "    import numpy as np\n",
    "    data = {\n",
    "    'Number of Generations': total_generation,\n",
    "    'Number of individuals with immunity': total_immunity\n",
    "        }\n",
    "    \n",
    "    table = pd.DataFrame(data)\n",
    "    print(table)\n",
    "    numpy_array = table.to_numpy()\n",
    "    \n",
    "    decide= input('Do you want to save the report to a file? Enter yes or no: ') #ask if they want to save a file\n",
    "    if len(decide)==3: #If they input yes\n",
    "        #currently only input that works is Gen\n",
    "        file_name= input('What is your file name? ') #user needs to provide a file name\n",
    "        \n",
    "        how = input('How would you like your file to be opened? Enter append or write: ') #ask how they want the data to be saved\n",
    "        confirm_how = input('Confirm editing format with yes or no: ') #ask for confirmation\n",
    "        if len(confirm_how)==2:#if enter no\n",
    "            how = input('How would you like your file to be opened? Enter append or write: ') #allowed to enter again\n",
    "        if len(how)== 5: #write the following into the provided file\n",
    "            file = open(file_name, 'w')\n",
    "            np.savetxt(file_name , numpy_array, fmt = \"%d\")\n",
    "            file.close()\n",
    "            print('The program is complete.')\n",
    "        else: #append the following into the provided file\n",
    "            file= open(file_name, 'a')\n",
    "            np.savetxt(file_name , numpy_array, fmt = \"%d\")\n",
    "            file.close()\n",
    "            print('The program is complete.')\n",
    "                    \n",
    "    else: #if the user doesn't want to save a file.\n",
    "        print('Okay, the program is complete.')\n",
    "    return file_name\n",
    "\n",
    "# Two graphs!\n",
    "# One showing a populations reaction to Rona \n",
    "# One showing a populations reaction to Rona with a vaccine\n"
   ]
  },
  {
   "cell_type": "code",
   "execution_count": 15,
   "metadata": {},
   "outputs": [
    {
     "name": "stdout",
     "output_type": "stream",
     "text": [
      "What is the approximate population size of your city/town? 5000000\n",
      "What was the daily increase of cases in your area? 754\n",
      "The assumed generation time is 10 days, how many Generation do you want to go through: 5\n",
      "Would you like the R value to be a high or low estimate? high\n",
      "What country in the UK is your town or city? Scotland\n",
      "The R value for Scotland is 1.0. \n",
      "5\n",
      "In generation 1, there were 1508 cases, after an increase of 754. 1454 people became immune, and 54 died.\n",
      "After 1 generation(s) of COVID, 1454 number of people will be immune.\n",
      " \n",
      "In generation 2, there were 3016 cases, after an increase of 1508. 2907 people became immune, and 109 died.\n",
      "After 2 generation(s) of COVID, 4361 number of people will be immune.\n",
      " \n",
      "In generation 3, there were 6032 cases, after an increase of 3016. 5815 people became immune, and 217 died.\n",
      "After 3 generation(s) of COVID, 10176 number of people will be immune.\n",
      " \n",
      "In generation 4, there were 12064 cases, after an increase of 6032. 11630 people became immune, and 434 died.\n",
      "After 4 generation(s) of COVID, 21806 number of people will be immune.\n",
      " \n",
      "In generation 5, there were 24128 cases, after an increase of 12064. 23259 people became immune, and 869 died.\n",
      "After 5 generation(s) of COVID, 45065 number of people will be immune.\n",
      " \n",
      "[1, 2, 3, 4, 5]\n",
      "   Number of Generations  Number of individuals with immunity\n",
      "0                      1                             1453.712\n",
      "1                      2                             2907.424\n",
      "2                      3                             5814.848\n",
      "3                      4                            11629.696\n",
      "4                      5                            23259.392\n",
      "Do you want to save the report to a file? Enter yes or no: yes\n",
      "What is your file name? Gen\n",
      "How would you like your file to be opened? Enter append or write: write\n",
      "Confirm editing format with yes or no: yes\n",
      "The program is complete.\n"
     ]
    },
    {
     "data": {
      "text/html": [
       "<div>\n",
       "<style scoped>\n",
       "    .dataframe tbody tr th:only-of-type {\n",
       "        vertical-align: middle;\n",
       "    }\n",
       "\n",
       "    .dataframe tbody tr th {\n",
       "        vertical-align: top;\n",
       "    }\n",
       "\n",
       "    .dataframe thead th {\n",
       "        text-align: right;\n",
       "    }\n",
       "</style>\n",
       "<table border=\"1\" class=\"dataframe\">\n",
       "  <thead>\n",
       "    <tr style=\"text-align: right;\">\n",
       "      <th></th>\n",
       "      <th>Gen time</th>\n",
       "      <th>Immunity</th>\n",
       "    </tr>\n",
       "  </thead>\n",
       "  <tbody>\n",
       "    <tr>\n",
       "      <th>0</th>\n",
       "      <td>1</td>\n",
       "      <td>1453</td>\n",
       "    </tr>\n",
       "    <tr>\n",
       "      <th>1</th>\n",
       "      <td>2</td>\n",
       "      <td>2907</td>\n",
       "    </tr>\n",
       "    <tr>\n",
       "      <th>2</th>\n",
       "      <td>3</td>\n",
       "      <td>5814</td>\n",
       "    </tr>\n",
       "    <tr>\n",
       "      <th>3</th>\n",
       "      <td>4</td>\n",
       "      <td>11629</td>\n",
       "    </tr>\n",
       "    <tr>\n",
       "      <th>4</th>\n",
       "      <td>5</td>\n",
       "      <td>23259</td>\n",
       "    </tr>\n",
       "  </tbody>\n",
       "</table>\n",
       "</div>"
      ],
      "text/plain": [
       "   Gen time  Immunity\n",
       "0         1      1453\n",
       "1         2      2907\n",
       "2         3      5814\n",
       "3         4     11629\n",
       "4         5     23259"
      ]
     },
     "execution_count": 15,
     "metadata": {},
     "output_type": "execute_result"
    }
   ],
   "source": [
    "import pandas as pd\n",
    "table()\n",
    "tdf= pd.read_csv(\"Gen\",sep=\" \")\n",
    "tdf.shape\n",
    "tdf=pd.read_csv(\"Gen\",sep=\" \",names=[\"Gen time\", \"Immunity\"])\n",
    "tdf.head()"
   ]
  },
  {
   "cell_type": "code",
   "execution_count": null,
   "metadata": {},
   "outputs": [],
   "source": [
    "\n",
    "  "
   ]
  },
  {
   "cell_type": "code",
   "execution_count": null,
   "metadata": {},
   "outputs": [],
   "source": []
  },
  {
   "cell_type": "code",
   "execution_count": 18,
   "metadata": {},
   "outputs": [
    {
     "data": {
      "text/plain": [
       "<matplotlib.axes._subplots.AxesSubplot at 0x12035ea30>"
      ]
     },
     "execution_count": 18,
     "metadata": {},
     "output_type": "execute_result"
    },
    {
     "data": {
      "image/png": "[encoded data removed]",
      "text/plain": [
       "<Figure size 432x288 with 1 Axes>"
      ]
     },
     "metadata": {
      "needs_background": "light"
     },
     "output_type": "display_data"
    }
   ],
   "source": [
    "tdf.plot(x=\"Gen time\",y=\"Immunity\")\n",
    "\n"
   ]
  },
  {
   "cell_type": "code",
   "execution_count": null,
   "metadata": {},
   "outputs": [],
   "source": []
  },
  {
   "cell_type": "code",
   "execution_count": null,
   "metadata": {},
   "outputs": [],
   "source": []
  },
  {
   "cell_type": "code",
   "execution_count": null,
   "metadata": {},
   "outputs": [],
   "source": []
  }
 ],
 "metadata": {
  "kernelspec": {
   "display_name": "Python 3",
   "language": "python",
   "name": "python3"
  },
  "language_info": {
   "codemirror_mode": {
    "name": "ipython",
    "version": 3
   },
   "file_extension": ".py",
   "mimetype": "text/x-python",
   "name": "python",
   "nbconvert_exporter": "python",
   "pygments_lexer": "ipython3",
   "version": "3.8.3"
  }
 },
 "nbformat": 4,
 "nbformat_minor": 4
}
